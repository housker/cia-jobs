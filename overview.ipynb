{
 "cells": [
  {
   "cell_type": "code",
   "execution_count": 1,
   "metadata": {},
   "outputs": [],
   "source": [
    "from utils import get_df, filter_by_list, view_entries, view_jobs, see_page"
   ]
  },
  {
   "cell_type": "code",
   "execution_count": 2,
   "metadata": {},
   "outputs": [],
   "source": [
    "%load_ext autoreload\n",
    "%autoreload 2"
   ]
  },
  {
   "cell_type": "code",
   "execution_count": 3,
   "metadata": {},
   "outputs": [
    {
     "name": "stdout",
     "output_type": "stream",
     "text": [
      "retrieving from pkl\n"
     ]
    }
   ],
   "source": [
    "url = 'https://www.cia.gov/careers/page-data/sq/d/2486978209.json'\n",
    "df = get_df(url)"
   ]
  },
  {
   "cell_type": "code",
   "execution_count": 4,
   "metadata": {},
   "outputs": [
    {
     "name": "stdout",
     "output_type": "stream",
     "text": [
      "<class 'pandas.core.frame.DataFrame'>\n",
      "Index: 128 entries, 0 to 169\n",
      "Data columns (total 11 columns):\n",
      " #   Column                Non-Null Count  Dtype \n",
      "---  ------                --------------  ----- \n",
      " 0   title                 128 non-null    object\n",
      " 1   uri                   128 non-null    object\n",
      " 2   available             128 non-null    bool  \n",
      " 3   jobId                 128 non-null    int64 \n",
      " 4   summary               128 non-null    object\n",
      " 5   qualifications        128 non-null    object\n",
      " 6   careerOpportunities   128 non-null    object\n",
      " 7   studentOpportunities  128 non-null    object\n",
      " 8   type                  128 non-null    object\n",
      " 9   degree                128 non-null    object\n",
      " 10  keywords              128 non-null    object\n",
      "dtypes: bool(1), int64(1), object(9)\n",
      "memory usage: 11.1+ KB\n"
     ]
    }
   ],
   "source": [
    "df.info()"
   ]
  },
  {
   "cell_type": "code",
   "execution_count": 5,
   "metadata": {},
   "outputs": [
    {
     "data": {
      "text/plain": [
       "(39, 11)"
      ]
     },
     "execution_count": 5,
     "metadata": {},
     "output_type": "execute_result"
    }
   ],
   "source": [
    "# view_entries(df, 'qualifications')\n",
    "unqual = ['foreign language', 'stem(?! or liberal arts)', 'ged', 'advanced degree', 'internship', 'student', 'jd', 'engineering', 'bar membership', 'biotechnology', 'ph.d', 'conversion', 'associate', 'abet', 'diploma', 'science', 'animation', 'aba', 'cia oig experience', 'logistics', 'physician', 'print production', 'psychiatry', 'business administration', 'mls']\n",
    "\n",
    "qualified = filter_by_list(df, unqual, 'qualifications')\n",
    "qualified.shape"
   ]
  },
  {
   "cell_type": "code",
   "execution_count": 6,
   "metadata": {},
   "outputs": [
    {
     "data": {
      "text/html": [
       "<div>\n",
       "<style scoped>\n",
       "    .dataframe tbody tr th:only-of-type {\n",
       "        vertical-align: middle;\n",
       "    }\n",
       "\n",
       "    .dataframe tbody tr th {\n",
       "        vertical-align: top;\n",
       "    }\n",
       "\n",
       "    .dataframe thead th {\n",
       "        text-align: right;\n",
       "    }\n",
       "</style>\n",
       "<table border=\"1\" class=\"dataframe\">\n",
       "  <thead>\n",
       "    <tr style=\"text-align: right;\">\n",
       "      <th></th>\n",
       "      <th>title</th>\n",
       "      <th>uri</th>\n",
       "      <th>available</th>\n",
       "      <th>jobId</th>\n",
       "      <th>summary</th>\n",
       "      <th>qualifications</th>\n",
       "      <th>careerOpportunities</th>\n",
       "      <th>studentOpportunities</th>\n",
       "      <th>type</th>\n",
       "      <th>degree</th>\n",
       "      <th>keywords</th>\n",
       "    </tr>\n",
       "  </thead>\n",
       "  <tbody>\n",
       "    <tr>\n",
       "      <th>24</th>\n",
       "      <td>Cyber Security Researcher</td>\n",
       "      <td>/jobs/cyber-security-researcher/</td>\n",
       "      <td>True</td>\n",
       "      <td>6894</td>\n",
       "      <td>Cyber Security Researchers focus in the cyber ...</td>\n",
       "      <td>[Full time, Starting salary: $69,287 - $122,45...</td>\n",
       "      <td>[STEM]</td>\n",
       "      <td>[]</td>\n",
       "      <td>[Full-Time]</td>\n",
       "      <td>[Bachelor's]</td>\n",
       "      <td>[STEM, Development, Network, Programming, Secu...</td>\n",
       "    </tr>\n",
       "    <tr>\n",
       "      <th>33</th>\n",
       "      <td>Digital Forensics Engineer</td>\n",
       "      <td>/jobs/digital-forensics-engineer/</td>\n",
       "      <td>True</td>\n",
       "      <td>6895</td>\n",
       "      <td>Digital Forensics Engineers analyze data from ...</td>\n",
       "      <td>[Full time, Starting salary: $69,287 - $122,45...</td>\n",
       "      <td>[STEM]</td>\n",
       "      <td>[]</td>\n",
       "      <td>[Full-Time]</td>\n",
       "      <td>[Bachelor's]</td>\n",
       "      <td>[Coding, Cyber, Scripting, Reverse, Engineerin...</td>\n",
       "    </tr>\n",
       "    <tr>\n",
       "      <th>80</th>\n",
       "      <td>IT Engineer</td>\n",
       "      <td>/jobs/it-engineer/</td>\n",
       "      <td>True</td>\n",
       "      <td>6901</td>\n",
       "      <td>IT Engineers design and deploy a secure, globa...</td>\n",
       "      <td>[Full time, Starting salary: $68,287 - $172,07...</td>\n",
       "      <td>[STEM]</td>\n",
       "      <td>[]</td>\n",
       "      <td>[Full-Time]</td>\n",
       "      <td>[Bachelor's]</td>\n",
       "      <td>[Cybersecurity, Information, Technology, Netwo...</td>\n",
       "    </tr>\n",
       "  </tbody>\n",
       "</table>\n",
       "</div>"
      ],
      "text/plain": [
       "                         title                                uri  available  \\\n",
       "24   Cyber Security Researcher   /jobs/cyber-security-researcher/       True   \n",
       "33  Digital Forensics Engineer  /jobs/digital-forensics-engineer/       True   \n",
       "80                 IT Engineer                 /jobs/it-engineer/       True   \n",
       "\n",
       "    jobId                                            summary  \\\n",
       "24   6894  Cyber Security Researchers focus in the cyber ...   \n",
       "33   6895  Digital Forensics Engineers analyze data from ...   \n",
       "80   6901  IT Engineers design and deploy a secure, globa...   \n",
       "\n",
       "                                       qualifications careerOpportunities  \\\n",
       "24  [Full time, Starting salary: $69,287 - $122,45...              [STEM]   \n",
       "33  [Full time, Starting salary: $69,287 - $122,45...              [STEM]   \n",
       "80  [Full time, Starting salary: $68,287 - $172,07...              [STEM]   \n",
       "\n",
       "   studentOpportunities         type        degree  \\\n",
       "24                   []  [Full-Time]  [Bachelor's]   \n",
       "33                   []  [Full-Time]  [Bachelor's]   \n",
       "80                   []  [Full-Time]  [Bachelor's]   \n",
       "\n",
       "                                             keywords  \n",
       "24  [STEM, Development, Network, Programming, Secu...  \n",
       "33  [Coding, Cyber, Scripting, Reverse, Engineerin...  \n",
       "80  [Cybersecurity, Information, Technology, Netwo...  "
      ]
     },
     "execution_count": 6,
     "metadata": {},
     "output_type": "execute_result"
    }
   ],
   "source": [
    "# view_entries(df, 'keywords')\n",
    "unkey = ['Accounting', 'Auditing', 'Business', 'Administration', 'Finance', 'Public', 'Gamer', 'Design', 'Architecture', 'Construction', 'Interior Design', 'Project Management', 'Consulting', 'Tableau', 'Visualization', 'Architect', 'Procurement', 'Property Management', 'Fraud Examination', 'Cost Analysis', 'Negotiation', 'Financial Advisory Services', 'Acquisition', 'Management', 'supply', 'chain', 'Tester', 'Information Assurance', 'Civil', 'Electrical', 'Industrial', 'Mechanical', 'Environmental', 'Protection', 'Policy', 'Ecology', 'EEO', 'Equity', 'Harassment', 'Discrimination', 'Grievance', 'Law', 'Enforcement', 'Armed', 'Budget', 'Business Administration', 'Customer Service', 'Performance Management', 'Organizational Development', 'Human Capital Management', 'Talent Acquisition', 'CPA', 'Management Consulting', 'Political Science', 'Public Administration', 'Public Policy', 'Oversight', 'Compliance', 'Criminal Justice', 'Law Enforcement', 'Business Management', 'Fraud Examiner', 'Accounting', 'Inspector', 'Overhead', 'Travel Medicine', 'Assessments', 'Healthcare', 'Medical', 'OSHA', 'Medicine', 'Traumatic', 'Care', 'Criminal', 'Safety', 'Health', 'Occupational', 'Hygiene', 'Counselor', 'Social', 'Services', 'counselor', 'social', 'HR', 'Accessibility', 'Communication', 'Facilitate', 'Translate', 'Logistics', 'PMP', 'PMI', 'Help Desk']\n",
    "\n",
    "interested = filter_by_list(qualified, unkey, 'keywords')\n",
    "interested"
   ]
  },
  {
   "cell_type": "code",
   "execution_count": 7,
   "metadata": {},
   "outputs": [
    {
     "name": "stdout",
     "output_type": "stream",
     "text": [
      "-> Cyber Security Researcher <-\n",
      "Cyber Security Researchers focus in the cyber arena and specialist in the design, development, integration, and deployment of cutting-edge tools, techniques, and systems to support cyber operations.\n",
      " - Full time\n",
      " - Starting salary: $69,287 - $122,459\n",
      " - Bachelor's degree\n",
      " - Opportunities for domestic travel are possible\n",
      "\n",
      "https://www.cia.gov/careers/jobs/cyber-security-researcher/\n",
      "----------------------------------------------------------------------------------------------------\n",
      "-> Digital Forensics Engineer <-\n",
      "Digital Forensics Engineers analyze data from ongoing cyber-attacks, provide information on threat mitigations, and write code to help develop information recovery techniques. \n",
      " - Full time\n",
      " - Starting salary: $69,287 - $122,459\n",
      " - Bachelor's degree \n",
      "\n",
      "https://www.cia.gov/careers/jobs/digital-forensics-engineer/\n",
      "----------------------------------------------------------------------------------------------------\n",
      "-> IT Engineer <-\n",
      "IT Engineers design and deploy a secure, global communications infrastructure that allows CIA officers to collaborate with each other and Intelligence Community and federal government partners.\n",
      " - Full time\n",
      " - Starting salary: $68,287 - $172,075*\n",
      " - *Higher starting salary possible depending on experience level\n",
      " - Bachelor's degree \n",
      "\n",
      "https://www.cia.gov/careers/jobs/it-engineer/\n",
      "----------------------------------------------------------------------------------------------------\n"
     ]
    }
   ],
   "source": [
    "view_jobs(interested)"
   ]
  },
  {
   "cell_type": "code",
   "execution_count": 8,
   "metadata": {},
   "outputs": [
    {
     "data": {
      "text/plain": [
       "(35, 11)"
      ]
     },
     "execution_count": 8,
     "metadata": {},
     "output_type": "execute_result"
    }
   ],
   "source": [
    "unqualified = filter_by_list(df, unkey, 'keywords')\n",
    "unqualified.shape"
   ]
  },
  {
   "cell_type": "code",
   "execution_count": 9,
   "metadata": {},
   "outputs": [
    {
     "name": "stdout",
     "output_type": "stream",
     "text": [
      "-> Analytic Methodologist <-\n",
      "Analytic Methodologists develop methods to add rigor to intelligence analysis and collection through statistical, econometric and mathematical assessments; geospatial modeling; or operations research.\n",
      " - Full time\n",
      " - Starting salary: $62,733 - $183,500\n",
      " - Advanced degree; some offices will accept candidates with a bachelor's\n",
      " - Foreign language bonus eligible\n",
      "\n",
      "https://www.cia.gov/careers/jobs/analytic-methodologist/\n",
      "----------------------------------------------------------------------------------------------------\n",
      "-> Artificial Intelligence Specialist <-\n",
      "Artificial Intelligence Specialists apply their expertise to collection platforms, including edge processing and autonomous systems, in the exploitation of data from sophisticated collection systems.\n",
      " - Full time\n",
      " - Starting Salary: $64,957 - $172,075*\n",
      " - *Higher starting salary possible depending on experience level\n",
      " - Bachelor’s preferably in a quantitative science, engineering, or STEM field\n",
      " - Foreign Language Bonus Eligible\n",
      " - Opportunities for travel are possible\n",
      "\n",
      "https://www.cia.gov/careers/jobs/artificial-intelligence-specialist/\n",
      "----------------------------------------------------------------------------------------------------\n",
      "-> Case Officer <-\n",
      "Case Officers clandestinely spot, assess, develop, recruit, and handle non-U.S. citizens with access to foreign intelligence vital to U.S. foreign policy and national security decision-makers.\n",
      " - Full Time\n",
      " - Starting salary: $67,122 - $102,166*\n",
      " - *Higher starting salary possible depending on experience level\n",
      " - Bachelor's degree\n",
      " - Foreign language bonus eligible\n",
      " - Foreign travel is required\n",
      "\n",
      "https://www.cia.gov/careers/jobs/case-officer/\n",
      "----------------------------------------------------------------------------------------------------\n",
      "-> Collection Management Officer <-\n",
      "Collection Management Officers drive the collection of foreign intelligence and manage the dialogue between U.S. intelligence consumers and the Directorate of Operations.\n",
      " - Full time\n",
      " - Starting salary: $67,122 - $102,166*\n",
      " - *Higher starting salary possible depending on experience level\n",
      " - Bachelor’s degree; no preferred major or program of study \n",
      " - Foreign language bonus eligible\n",
      "\n",
      "https://www.cia.gov/careers/jobs/collection-management-officer/\n",
      "----------------------------------------------------------------------------------------------------\n",
      "-> Cyber Security Researcher <-\n",
      "Cyber Security Researchers focus in the cyber arena and specialist in the design, development, integration, and deployment of cutting-edge tools, techniques, and systems to support cyber operations.\n",
      " - Full time\n",
      " - Starting salary: $69,287 - $122,459\n",
      " - Bachelor's degree\n",
      " - Opportunities for domestic travel are possible\n",
      "\n",
      "https://www.cia.gov/careers/jobs/cyber-security-researcher/\n",
      "----------------------------------------------------------------------------------------------------\n",
      "-> Cyber Targeter <-\n",
      "Cyber Targeters leverage advanced tools, datasets, and methods to identify and assess individuals, computer networks, emerging threats, and collection opportunities to advance CIA’s cyber mission.\n",
      " - Full-Time \n",
      " - $69,287 - $122,459*\n",
      " - *Higher starting salary possible depending on experience level\n",
      " - Bachelor’s Degree \n",
      " - Foreign Language Bonus Eligible\n",
      "\n",
      "https://www.cia.gov/careers/jobs/cyber-targeter/\n",
      "----------------------------------------------------------------------------------------------------\n",
      "-> Data Analysis Officer <-\n",
      "Data Analysis Officers identify items of intelligence and operational interest by evaluating, analyzing, and exploiting digital data to identify and assess how adversaries operate and interact. \n",
      " - Full time\n",
      " - Starting salary: $69,287 - $145,617*\n",
      " - *Higher starting salary possible depending on experience level\n",
      " - Bachelor’s degree \n",
      " - Foreign language bonus eligible\n",
      "\n",
      "https://www.cia.gov/careers/jobs/data-analysis-officer/\n",
      "----------------------------------------------------------------------------------------------------\n",
      "-> Digital Forensics Engineer <-\n",
      "Digital Forensics Engineers analyze data from ongoing cyber-attacks, provide information on threat mitigations, and write code to help develop information recovery techniques. \n",
      " - Full time\n",
      " - Starting salary: $69,287 - $122,459\n",
      " - Bachelor's degree \n",
      "\n",
      "https://www.cia.gov/careers/jobs/digital-forensics-engineer/\n",
      "----------------------------------------------------------------------------------------------------\n",
      "-> High Performance Computing Specialist in Engagement, Research, and Innovation <-\n",
      "HPC Specialists apply their expertise to research, design HPC solutions, and work with AI, Autonomous Systems, Biotech, and Data Science Specialists to understand processing, bandwidth, and capacity.\n",
      " - Full time\n",
      " - Starting Salary: $61,947 -$164,102*\n",
      " - *Higher starting salary possible depending on experience level\n",
      " - Bachelor’s, preferably in a quantitative science, engineer, or STEM field\n",
      " - Foreign Language Bonus Eligible\n",
      " - Opportunities for domestic travel are possible\n",
      "\n",
      "https://www.cia.gov/careers/jobs/high-performance-computing-specialist-in-engagement-research-and-innovation/\n",
      "----------------------------------------------------------------------------------------------------\n",
      "-> IG Inspector <-\n",
      "The OIG Inspector assesses whether CIA offices and programs are effectively executing their mission and comply with Federal law, Executive Orders, and other internal regulations and policies.\n",
      " - Full time\n",
      " - Starting salary: $141,192 - $183,500\n",
      " - Four-year college degree from an accredited university\n",
      " - Previous CIA OIG experience is required for this vacancy\n",
      " - \n",
      " - \n",
      "\n",
      "https://www.cia.gov/careers/jobs/inspector-general-inspector/\n",
      "----------------------------------------------------------------------------------------------------\n",
      "-> Open Source Exploitation Officer <-\n",
      "Open Source Exploitation Officers discover, collect, and assess foreign-based publicly available information, develop plans to use effective tools and methodologies to research and collect information\n",
      " - Full time\n",
      " - Starting salary: $69,287 - $145,617\n",
      " - Bachelor's degree\n",
      " - Foreign language bonus eligible\n",
      " - Opportunities for travel are possible\n",
      "\n",
      "https://www.cia.gov/careers/jobs/open-source-exploitation-officer/\n",
      "----------------------------------------------------------------------------------------------------\n",
      "-> Open Source Targeter <-\n",
      "Open Source Targeters conduct internet research and analysis on relevant targets while leveraging advanced tools, datasets and methodologies to further covert operations and provide operational leads.\n",
      " - Full-Time \n",
      " - $69,287 - $122,459*\n",
      " - *Higher starting salary possible depending on experience level\n",
      " - Bachelor’s Degree\n",
      " - Foreign Language Bonus Eligible\n",
      " - Opportunities for domestic and foreign travel are possible\n",
      "\n",
      "https://www.cia.gov/careers/jobs/open-source-targeter/\n",
      "----------------------------------------------------------------------------------------------------\n",
      "-> Targeting Officer <-\n",
      "Targeting Officers identify the people, relationships, and organizations with access to information needed to find opportunities to disrupt threats to U.S. interests.\n",
      " - Full time\n",
      " - Starting salary: $67,122 - $102,166*\n",
      " - *Higher starting salary possible depending on experience level\n",
      " - Bachelor's degree\n",
      " - Foreign language bonus eligible\n",
      " - Opportunities for foreign travel are possible\n",
      "\n",
      "https://www.cia.gov/careers/jobs/targeting-officer/\n",
      "----------------------------------------------------------------------------------------------------\n",
      "-> Technical Operations Officer <-\n",
      "Technical Operations Officers provide technical support in a range of areas, including digital and satellite communications; video and image enhancement; and coding and decoding devices. \n",
      " - Full time\n",
      " - Starting salary: $64,957 – $172,075*\n",
      " - *Higher starting salary possible depending on experience level\n",
      " - Bachelor's degree\n",
      " - Foreign language bonus eligible\n",
      "\n",
      "https://www.cia.gov/careers/jobs/technical-operations-officer/\n",
      "----------------------------------------------------------------------------------------------------\n",
      "-> Technical Researcher <-\n",
      "Technical Researchers will apply technical expertise, innovative mindset, and adaptive imagination to enable CIA to excel in a rapidly changing world of Emerging and Disruptive Technologies (EDTs).\n",
      " - Full time\n",
      " - Starting salary: $64,957 - $172,075*\n",
      " - *Higher starting salary possible depending on experience level\n",
      " - Aerospace engineering, electrical, mathematics, physical sciences\n",
      " - Foreign language bonus eligible\n",
      " - Opportunities for domestic travel are possible\n",
      "\n",
      "https://www.cia.gov/careers/jobs/technical-researcher/\n",
      "----------------------------------------------------------------------------------------------------\n",
      "-> Technical Targeting Analyst <-\n",
      "Technical Targeting Analysts evaluate technical and scientific data to provide insights that unite technical operations and development activities to maximize intelligence collection strategies.\n",
      " - Full time\n",
      " - Starting salary: $64,957 – $172,075*\n",
      " - *Higher starting salary possible depending on experience level\n",
      " - Biology, Chemistry, Econometrics, Mathematics, Sociology, Data Science\n",
      " - Language bonus eligible\n",
      " - Opportunities for foreign travel are possible\n",
      "\n",
      "https://www.cia.gov/careers/jobs/technical-targeting-analyst/\n",
      "----------------------------------------------------------------------------------------------------\n"
     ]
    }
   ],
   "source": [
    "maybe = ['Analytic Methodologist', 'Artificial Intelligence Specialist', 'Case Officer', 'Collection Management Officer', 'Cyber Security Researcher', 'Cyber Targeter', 'Data Analysis Officer', 'Digital Forensics Engineer', 'High Performance Computing Specialist in Engagement, Research, and Innovation', 'IG Inspector', 'Open Source Exploitation Officer', 'Open Source Targeter', '\tPolitical Analyst', 'Targeting Officer', 'Technical Operations Officer', 'Technical Researcher', 'Technical Targeting Analyst']\n",
    "\n",
    "view_jobs(unqualified.loc[unqualified['title'].isin(maybe)])"
   ]
  },
  {
   "cell_type": "code",
   "execution_count": 10,
   "metadata": {},
   "outputs": [],
   "source": [
    "longlist = [\n",
    "    {\n",
    "    'title': \"Case Officer\", \n",
    "    'pro': \"nontechnical Bachelor's degree\",\n",
    "    'con': \"Foreign language bonus eligible\",\n",
    "    \"hot_take\": \"dangerous (I'm assuming that applies for all the 5-year contract positions), on paper qualified\",\n",
    "    \"shortlist\": False,\n",
    "    },\n",
    "    {\n",
    "    'title': \"Technical Project Manager\", \n",
    "    'pro': \"Bachelor’s in liberal arts\",\n",
    "    'con': \"have never managed projects and under my current preconceptions am averse to the prospect\",\n",
    "    \"hot_take\": \"leadership and time-management, unappealing\",\n",
    "    \"shortlist\": False,\n",
    "    },\n",
    "    {\n",
    "    'title': \"Collection Management Officer\", \n",
    "    'pro': \"nontechnical Bachelor's degree\",\n",
    "    'con': \"Foreign language bonus eligible\",\n",
    "    \"hot_take\": \"subject matter expertise and entry-level with training, dangerous, on paper qualified, appealing: more analysis than case officer\",\n",
    "    \"shortlist\": True,\n",
    "    },\n",
    "    {\n",
    "    'title': \"Cyber Targeter\", \n",
    "    'pro': \"nontechnical Bachelor's degree\",\n",
    "    'con': \"Foreign language bonus eligible\",\n",
    "    \"hot_take\": \"I'm short a year of professional experience and don't have a degree in the preferred field, the prospect of constantly being in front of a computer does not appeal\",\n",
    "    \"shortlist\": False,\n",
    "    },\n",
    "    {\n",
    "    'title': \"Data Analysis Officer\", \n",
    "    'pro': \"nontechnical Bachelor's degree\",\n",
    "    'con': \"Foreign language bonus eligible\",\n",
    "    \"hot_take\": \"the summary doesn't require a tech bachelors, but the job description does, is this less time spent in front of a computer than cyber targeter or just as much?\",\n",
    "    \"shortlist\": True,\n",
    "    },\n",
    "    {\n",
    "    'title': \"High Performance Computing Specialist in Engagement, Research, and Innovation\", \n",
    "    'pro': \"Seems like an extremely marketable skill to develop in either private or public sector\",\n",
    "    'con': \"technical degree preferred, Foreign language bonus\",\n",
    "    \"hot_take\": \"this is really cool, but I know what it takes, and it's not a matter of my having the skills but not the degree, I would sincerely need to study CS to better understand performance\",\n",
    "    \"shortlist\": False,\n",
    "    },\n",
    "    {\n",
    "    'title': \"Open Source Exploitation Officer\", \n",
    "    'pro': \"nontechnical bachelors\",\n",
    "    'con': \"Foreign language bonus, but seems especially important for this one\",\n",
    "    \"hot_take\": \"allows for social science degree, but can't imagine this job would be easy without knowing the language, endless hours in front of the computer?\",\n",
    "    \"shortlist\": False,\n",
    "    },\n",
    "    {\n",
    "    'title': \"Open Source Targeter\", \n",
    "    'pro': \"nontechnical bachelors\",\n",
    "    'con': \"Foreign language bonus, but seems especially important for this one; from description, seems especially boring\",\n",
    "    \"hot_take\": \"What does blended operations and broadening assignments entail? If less time in front of the computer, sign me up. Oh, but I think foreign language proficiency disqualifies me unless the Spanish I can't remember from college counts\",\n",
    "    \"shortlist\": False,\n",
    "    },\n",
    "    {\n",
    "    'title': \"Targeting Officer\", \n",
    "    'pro': \"nontechnical bachelors\",\n",
    "    'con': \"Foreign language bonus eligible\",\n",
    "    \"hot_take\": \"dangerous, entry-level with training, less time in front of a laptop possibly, most of your career in dc, no disqualifying degree requirements\",\n",
    "    \"shortlist\": True,\n",
    "    },\n",
    "    {\n",
    "    'title': \"Technical Operations Officer\", \n",
    "    'pro': \"nontechnical bachelors\",\n",
    "    'con': \"Foreign language bonus eligible, but if it's technical maybe it's less important\",\n",
    "    \"hot_take\": \"Like Q from James Bond, looks incredibly cool, but definitely not qualified\",\n",
    "    \"shortlist\": False,\n",
    "    },\n",
    "    {\n",
    "    'title': \"Technical Targeting Analyst\", \n",
    "    'pro': \"social science bachelors\",\n",
    "    'con': \"Language bonus eligible\",\n",
    "    \"hot_take\": \"training will be provided in analytical tools, psych degree accepted, **This looks like the best bet**, only concern: endless hours in front of a screen?\",\n",
    "    \"shortlist\": True,\n",
    "    },\n",
    "    {\n",
    "    'title': \"Cyber Security Researcher\", \n",
    "    'pro': \"judging from the qualifications in the summary api response, am qualified\",\n",
    "    'con': \"not qualified based on job description from uri, domestic travel only\",\n",
    "    \"hot_take\": \"no technical degree, no systems programming experience\",\n",
    "    \"shortlist\": False,\n",
    "    },\n",
    "    {\n",
    "    'title': \"Digital Forensics Engineer\", \n",
    "    'pro': \"judging from the qualifications in the summary api response, am qualified; summary specifically indicated I'll be able to code\",\n",
    "    'con': \"not qualified based on job description from uri\",\n",
    "    \"hot_take\": \"emphasis on creativity and novelty is appealing, but I lack the technical degree and am not sure I care enough about computers\",\n",
    "    \"shortlist\": True,\n",
    "    },\n",
    "    {\n",
    "    'title': \"IT Engineer\", \n",
    "    'pro': \"judging from the qualifications in the summary api response, am qualified\",\n",
    "    'con': \"not qualified based on job description from uri\",\n",
    "    \"hot_take\": \"python and full-stack development is listed, but I don't have a technical degree or ANY of the hardware experience\",\n",
    "    \"shortlist\": False,\n",
    "    },    \n",
    "]"
   ]
  },
  {
   "cell_type": "code",
   "execution_count": 11,
   "metadata": {},
   "outputs": [
    {
     "name": "stdout",
     "output_type": "stream",
     "text": [
      "-> Case Officer <-\n",
      "https://www.cia.gov/careers/jobs/case-officer/\n"
     ]
    },
    {
     "data": {
      "text/html": [
       "<p class=\"\">As a Case Officer for the CIA, you will focus on clandestinely spotting, assessing, developing, recruiting, and handling non-U.S. citizens with access to foreign intelligence vital to U.S. foreign policy and national security decision-makers. You will be expected to build relationships based on rapport and trust using sound judgment, integrity, and the ability to assess character and motivation.</p> <p class=\"\">Case Officers spend most of their careers serving in multi-year assignments in a variety of overseas locations. As such, all Case Officers must be able to be medically cleared for world wide deployment. All Case Officers address a highly diverse and dynamic set of intelligence requirements on country and region-specific issues, as well as transnational issues such as counterterrorism, counter proliferation, and cyber.</p> <p class=\"\">All Directorate of Operations (DO) officers are hired at an entry level and train as they are expected to work â as one team.Â  DO officers are hired into one of two programs: the Clandestine Service Trainee (CST) program or the Professional Trainee (PT) program.Â  A CST has three or more years of professional experience, while PT has less than three years of professional experience.Â  DO officers begin their careers learning the foundations of operations via classroom training, practical exercises, and on-the-job experience gained through a series of interim assignments.Â  Based on the program into which each applicant is hired, the number of interim assignments will vary.</p> <p class=\"\">As part of the program, some DO officers will be expected to:</p> <div><ul><li>Operate a motor vehicle without second-party assistance in daytime and nighttime conditions;</li><li>Traverse uneven terrain, to include climbing and descendingÂ­Â­Â­ staircases, over fixed minimum distances and in varying weather conditions;</li><li>Work non-traditional or erratic schedules;</li><li>Make reasoned decisions under time constraints.  </li></ul></div> <p class=\"\"><a class=\"link-button bold\" href=\"/careers/static/2f0acef93fc92e932ddc921cf2c6a115/DO-Contract-Employment-Agreement.pdf\" target=\"_blank\">This position requires a 5-year Contract Term Agreement.<span style=\"text-decoration:underline\"></span></a></p>"
      ]
     },
     "metadata": {},
     "output_type": "display_data"
    },
    {
     "data": {
      "application/vnd.jupyter.widget-view+json": {
       "model_id": "3ebc3ccbeb63465fa8f66109f46d79b8",
       "version_major": 2,
       "version_minor": 0
      },
      "text/plain": [
       "Accordion(children=(HTML(value='<div><ul><li>Bachelorâ\\x80\\x99s degree from an accredited institution (applica…"
      ]
     },
     "metadata": {},
     "output_type": "display_data"
    },
    {
     "name": "stdout",
     "output_type": "stream",
     "text": [
      "-> Technical Project Manager <-\n",
      "https://www.cia.gov/careers/jobs/technical-project-manager/\n"
     ]
    },
    {
     "data": {
      "text/html": [
       "<p class=\"\">As a Technical Project Manager, you will lead projects and programs that deliver key capabilities to accomplish the U.S. intelligence mission. Your teams will solve complex problems through your leadership in applying your project management, critical thinking, and people skills. Your Technical Project Management career will challenge you to apply your skills across the vast, global variety of technical and mission domains in CIA.</p> <p class=\"\">CIA Technical Project Managers drive critical technology initiatives in the Directorate of Digital Innovation (DDI) and turn user needs into operating capabilities. Your responsibilities involve integration of programmatic, technical, systems engineering, business, budget, schedule, and personnel elements of a project, including:</p> <div><ul><li>Defining requirements, concepts of operation, architectures, and team structures</li><li>Tailoring and applying program management and systems engineering processes</li><li>Leading, negotiating, and defending technical and programmatic solutions</li><li>Developing, managing, and defending cost, scope, performance, and schedule through delivery of initiatives, products, or systems</li><li>Leveraging different methods to communicate status to stakeholders</li><li>Conducting acquisition planning and source selection</li></ul></div> <p class=\"\">Opportunities may exist for domestic and foreign travel, technical and management training, and assignments in other offices in the CIA.</p>"
      ]
     },
     "metadata": {},
     "output_type": "display_data"
    },
    {
     "data": {
      "application/vnd.jupyter.widget-view+json": {
       "model_id": "10546cc743ec4a6f94f05692a15d33cf",
       "version_major": 2,
       "version_minor": 0
      },
      "text/plain": [
       "Accordion(children=(HTML(value='<div><ul><li>Bachelorâ\\x80\\x99s degree in one of the following fields or relat…"
      ]
     },
     "metadata": {},
     "output_type": "display_data"
    },
    {
     "name": "stdout",
     "output_type": "stream",
     "text": [
      "-> Collection Management Officer <-\n",
      "https://www.cia.gov/careers/jobs/collection-management-officer/\n"
     ]
    },
    {
     "data": {
      "text/html": [
       "<p class=\"\">As a Collection Management Officer at CIA, you will drive the collection of foreign intelligence and actively manage the two-way dialogue between U.S. intelligence consumers and the Directorate of Operations (DO). You will evaluate the foreign intelligence collected by the DO to ensure the DO is providing U.S. foreign policy and national security decision-makers with timely, accurate, clear, and concise reporting in a manner that safeguards sensitive intelligence sources and methods.</p> <p class=\"\">Collection Management Officers use a combination of formal training and independent learning to develop and maintain subject matter expertise on current and looming country- and region-specific issues and/or transnational issues such as counterterrorism, counter proliferation, and cyber. This subject matter expertise enables Collection Management Officers to understand intelligence needs and identify clandestine collection opportunities that meet the priority requirements of U.S. foreign intelligence consumers.</p> <p class=\"\">Opportunities exist for Collection Management Officers to serve in multi-year assignments overseas or they can spend most or all of their career serving in the Washington, DC area.</p> <p class=\"\">All Directorate of Operations (DO) officers are hired at an entry level and train as they are expected to work â as one team.Â  DO officers are hired into one of two programs: the Clandestine Service Trainee (CST) program or the Professional Trainee (PT) program.Â  A CST has three or more years of professional experience, while PT has less than three years of professional experience.Â  DO officers begin their careers learning the foundations of operations via classroom training, practical exercises, and on-the-job experience gained through a series of interim assignments.Â  Based on the program into which each applicant is hired, the number of interim assignments will vary.</p> <p class=\"\">As part of the program, some DO officers will be expected to:</p> <div><ul><li>Operate a motor vehicle without second-party assistance in daytime and nighttime conditions;</li><li>Traverse uneven terrain, to include climbing and descendingÂ­Â­Â­ staircases, over fixed minimum distances and in varying weather conditions;</li><li>Work non-traditional or erratic schedules;</li><li>Make reasoned decisions under time constraints.  </li></ul></div> <p class=\"\"><a class=\"link-button bold\" href=\"/careers/static/2f0acef93fc92e932ddc921cf2c6a115/DO-Contract-Employment-Agreement.pdf\" target=\"_blank\">This position requires a 5-year Contract Term Agreement.</a></p>"
      ]
     },
     "metadata": {},
     "output_type": "display_data"
    },
    {
     "data": {
      "application/vnd.jupyter.widget-view+json": {
       "model_id": "40ceb470189047f3a4e3483189b2c863",
       "version_major": 2,
       "version_minor": 0
      },
      "text/plain": [
       "Accordion(children=(HTML(value='<div><ul><li>Bachelorâ\\x80\\x99s degree from an accredited institution (applica…"
      ]
     },
     "metadata": {},
     "output_type": "display_data"
    },
    {
     "name": "stdout",
     "output_type": "stream",
     "text": [
      "-> Cyber Targeter <-\n",
      "https://www.cia.gov/careers/jobs/cyber-targeter/\n"
     ]
    },
    {
     "data": {
      "text/html": [
       "<p class=\"\">As a Cyber Targeter at CIA, you will effectively leverage the most advanced cyber tools, datasets, and methodologies to analyze all-source information, generate operational leads, drive successful operations, disrupt threats, and advance CIAâs cyber mission priorities. Cyber Targeters are investigative, pragmatic, and mission driven. Working in a fast-paced, collaborative environment, you will identify the individuals, computer networks, emerging threats, cyber vulnerabilities, and collection opportunities that will transform intelligence and advance US national security interests in the cyber domain.</p> <p class=\"\">Opportunities may exist for domestic and foreign travel, as well as technical and specialized training.</p>"
      ]
     },
     "metadata": {},
     "output_type": "display_data"
    },
    {
     "data": {
      "application/vnd.jupyter.widget-view+json": {
       "model_id": "40d1ceb99f5f4b4991f9f7d5ca74a443",
       "version_major": 2,
       "version_minor": 0
      },
      "text/plain": [
       "Accordion(children=(HTML(value='<div><ul><li>Bachelorâ\\x80\\x99s degree from an accredited institution in a STE…"
      ]
     },
     "metadata": {},
     "output_type": "display_data"
    },
    {
     "name": "stdout",
     "output_type": "stream",
     "text": [
      "-> Data Analysis Officer <-\n",
      "https://www.cia.gov/careers/jobs/data-analysis-officer/\n"
     ]
    },
    {
     "data": {
      "text/html": [
       "<p class=\"\">As a Data Analysis Officer at CIA, youâll utilize your understanding of digital capabilities to evaluate and analyze digital and all source intelligence information to identify key adversaries and assess how they operate and interact. Using strong critical thinking skills and a variety of digital analytic and/or forensics tools and methods, you will extract valuable information from digital data and create a range of products that explain your findings to inform operations, drive collection, and support customers.</p> <p class=\"\">Data Analysis Officers triage, review, and identify items of intelligence and operational interest from technical collections and other datasets. You will leverage advanced methods to analyze data sets and create and refine capabilities to exploit large data sets quickly and accurately.</p> <p class=\"\">Data Analysis Officers also identify and prioritize intelligence gaps, determine the appropriate collection actions needed, and drive the collection process.</p>"
      ]
     },
     "metadata": {},
     "output_type": "display_data"
    },
    {
     "data": {
      "application/vnd.jupyter.widget-view+json": {
       "model_id": "b83a9284b2524760805eecc0c8c20dac",
       "version_major": 2,
       "version_minor": 0
      },
      "text/plain": [
       "Accordion(children=(HTML(value='<div><ul><li>Bachelorâ\\x80\\x99s degree in one of the following fields: <ul><li…"
      ]
     },
     "metadata": {},
     "output_type": "display_data"
    },
    {
     "name": "stdout",
     "output_type": "stream",
     "text": [
      "-> High Performance Computing Specialist in Engagement, Research, and Innovation <-\n",
      "https://www.cia.gov/careers/jobs/high-performance-computing-specialist-in-engagement-research-and-innovation/\n"
     ]
    },
    {
     "data": {
      "text/html": [
       "<p class=\"\">As a High Performance Computing (HPC) Specialist for CIA, you will conduct research on a range of HPC from large-scale systems to small-scale specialized systems. You will work with various teams to design the right system for their needs, which can include processing massive datasets to produce key intelligence to processing data coming off a handful of sensors on a robotic device.</p> <p class=\"\">Our HPC Specialists support AI solutions that improve the performance of our collection systems and enable faster, deeper, and better explained insights from collection. The solutions will ultimately boost the performance of our mission experts by enabling human-machine teaming and algorithmically putting the right insights before the right experts.</p> <p class=\"\">You will be working with teams of world-class experts,Â  and in many cases you will be steering the work of large collaborative teams. Using advanced hardware, software, and computational platforms with an emphasis on highly scalable and efficient solutions, you will bring exploitation capabilities to production and provide insights on the nationâs most difficult national security challenges. When problem-solving, you will be collaborating with domain experts, data and collection experts, systems designers and integrators, and analysts. You will develop your expertise through continuing education sponsored by the Agency, along with integrated on the job training with deep domain experts.</p>"
      ]
     },
     "metadata": {},
     "output_type": "display_data"
    },
    {
     "data": {
      "application/vnd.jupyter.widget-view+json": {
       "model_id": "a3ef1fdcc30f48c5b94262530705fbfa",
       "version_major": 2,
       "version_minor": 0
      },
      "text/plain": [
       "Accordion(children=(HTML(value='<div><ul><li>Bachelorâ\\x80\\x99s degree, preferably in a quantitative science, …"
      ]
     },
     "metadata": {},
     "output_type": "display_data"
    },
    {
     "name": "stdout",
     "output_type": "stream",
     "text": [
      "-> Open Source Exploitation Officer <-\n",
      "https://www.cia.gov/careers/jobs/open-source-exploitation-officer/\n"
     ]
    },
    {
     "data": {
      "text/html": [
       "<p class=\"\">As an Open Source Exploitation Officer (OSEO) for CIA, you will discover, collect, and assess foreign-based, publicly available information, also known as Open Source Intelligence (OSINT) in a dynamic, ever-expanding digital environment. OSINT spans traditional media, academic papers, geospatial data and technology, datasets, and social media. OSINT plays an important role in all aspects of Agency work. As an OSEO, you will develop plans that use effective tools and methodologies to research and collect open source information. Using your knowledge of a geographic or subject area, the open source information environment, and language proficiency, you will tackle complex problems like understanding messaging, reaction, and influence and convey your findings in written products and briefings.</p> <p class=\"\">Opportunities for domestic and foreign travel are possible.</p>"
      ]
     },
     "metadata": {},
     "output_type": "display_data"
    },
    {
     "data": {
      "application/vnd.jupyter.widget-view+json": {
       "model_id": "89d7403fd3f74d6fba07e65530e18062",
       "version_major": 2,
       "version_minor": 0
      },
      "text/plain": [
       "Accordion(children=(HTML(value='<div><ul><li>Bachelorâ\\x80\\x99sÂ\\xa0 degree in one of the following fields or …"
      ]
     },
     "metadata": {},
     "output_type": "display_data"
    },
    {
     "name": "stdout",
     "output_type": "stream",
     "text": [
      "-> Open Source Targeter <-\n",
      "https://www.cia.gov/careers/jobs/open-source-targeter/\n"
     ]
    },
    {
     "data": {
      "text/html": [
       "<p class=\"\">As an Open Source Targeter at CIA, you will focus on the analysis and exploitation of publicly available information to drive successful human, technical, or blended operations that advance intelligence objectives and generate operational leads.Â Open Source Targeters are investigative, pragmatic, and operationally driven. You will serve frequently as an expert in technical or topical domains, geographic areas, and/or foreign language who work with other specialists to solve complex problems, collect key information, and produce foreign intelligence to disrupt threats and promote CIAâs mission priorities.</p> <p class=\"\">You will support the initiation of cutting edge operations on a range of priorities by applying specialized tradecraft, tools, and data. Open Source Targeters work to develop innovative digital solutions to solve complex challenges on elusive targets and communicate these solutions and findings to non-technical partners.</p> <p class=\"\">Opportunities may exist for domestic and foreign travel, technical and specialized training, and broadening assignments in other CIA offices.</p>"
      ]
     },
     "metadata": {},
     "output_type": "display_data"
    },
    {
     "data": {
      "application/vnd.jupyter.widget-view+json": {
       "model_id": "a0168e02408a4f3b925d8dabafea4af6",
       "version_major": 2,
       "version_minor": 0
      },
      "text/plain": [
       "Accordion(children=(HTML(value='<div><ul><li>Bachelorâ\\x80\\x99s Degree from an accredited institution, prefera…"
      ]
     },
     "metadata": {},
     "output_type": "display_data"
    },
    {
     "name": "stdout",
     "output_type": "stream",
     "text": [
      "-> Targeting Officer <-\n",
      "https://www.cia.gov/careers/jobs/targeting-officer/\n"
     ]
    },
    {
     "data": {
      "text/html": [
       "<p class=\"\">As a Targeting Officer at CIA, you will identify the people, relationships, and organizations having access to the information needed to address the most critical U.S. foreign intelligence requirements and find opportunities to disrupt terrorist attacks, illegal arms trade, drug networks, cyber threats, and counterintelligence threats.</p> <p class=\"\">Targeting Officers are integral to the planning and implementation of Directorate of Operations (DO) foreign intelligence collection, counterintelligence, and covert action operations. You will combine specialized training, utilize advanced analytic skills and tools, and in-depth knowledge and experience in DO operational trade craft to identify new opportunities for DO activities and enhance ongoing operations.</p> <p class=\"\">Many Targeting Officers spend much of their career serving in the Washington, DC area with opportunities for overseas travel. Opportunities for Targeting Officers to serve multi-year postings overseas exist, but these positions are competitive.</p> <p class=\"\">All Directorate of Operations (DO) officers are hired at an entry level and train as they are expected to work â as one team.Â  DO officers are hired into one of two programs: the Clandestine Service Trainee (CST) program or the Professional Trainee (PT) program.Â  A CST has three or more years of professional experience, while PT has less than three years of professional experience.Â  DO officers begin their careers learning the foundations of operations via classroom training, practical exercises, and on-the-job experience gained through a series of interim assignments.Â  Based on the program into which each applicant is hired, the number of interim assignments will vary.</p> <p class=\"\">As part of the program, some DO officers will be expected to:</p> <div><ul><li>Operate a motor vehicle without second-party assistance in daytime and nighttime conditions;</li><li>Traverse uneven terrain, to include climbing and descendingÂ­Â­Â­ staircases, over fixed minimum distances and in varying weather conditions;</li><li>Work non-traditional or erratic schedules;</li><li>Make reasoned decisions under time constraints.  </li></ul></div> <p class=\"\"><a class=\"link-button bold\" href=\"/careers/static/2f0acef93fc92e932ddc921cf2c6a115/DO-Contract-Employment-Agreement.pdf\" target=\"_blank\">This position requires a 5-year Contract Term Agreement.</a><span style=\"text-decoration:underline\"></span></p>"
      ]
     },
     "metadata": {},
     "output_type": "display_data"
    },
    {
     "data": {
      "application/vnd.jupyter.widget-view+json": {
       "model_id": "e8d1f143b2a845bf9af00409f6ec9fd6",
       "version_major": 2,
       "version_minor": 0
      },
      "text/plain": [
       "Accordion(children=(HTML(value='<div><ul><li>Bachelorâ\\x80\\x99s degree from an accredited institution (applica…"
      ]
     },
     "metadata": {},
     "output_type": "display_data"
    },
    {
     "name": "stdout",
     "output_type": "stream",
     "text": [
      "-> Technical Operations Officer <-\n",
      "https://www.cia.gov/careers/jobs/technical-operations-officer/\n"
     ]
    },
    {
     "data": {
      "text/html": [
       "<p class=\"\">As a Technical Operations Officer for CIA, you will apply creative solutions to complex and often difficult technical and operational problems. Technical Operations Officers provide high-quality, timely, and professional services and technical support in a wide range of areas: analog, digital, and satellite communications; video and image enhancement; coding and decoding devices; and various aspects of computer technology.</p> <p class=\"\">Using specialized equipment, you will train others in equipment use, satisfy field operations requirements, prepare reports, familiarize non-technical people with technical capabilities, and conduct hands-on work while traveling worldwide. As a member of a multi-discipline team, you will utilize your creative problem-solving skills to find unconventional technical solutions to challenging on-going operational requirements in non-traditional environments. You may also find yourself in a work element where you are required to draw upon your skills in design and fabrication on a daily basis.</p> <p class=\"\">Opportunities may exist for foreign travel, technical and management training, and assignments in other offices within the CIA.</p>"
      ]
     },
     "metadata": {},
     "output_type": "display_data"
    },
    {
     "data": {
      "application/vnd.jupyter.widget-view+json": {
       "model_id": "8a0f7bc9e89847dd85531cea6876abc0",
       "version_major": 2,
       "version_minor": 0
      },
      "text/plain": [
       "Accordion(children=(HTML(value='<div><ul>\\n<li>Bachelorâ\\x80\\x99s degree in one of the following fields or rel…"
      ]
     },
     "metadata": {},
     "output_type": "display_data"
    },
    {
     "name": "stdout",
     "output_type": "stream",
     "text": [
      "-> Technical Targeting Analyst <-\n",
      "https://www.cia.gov/careers/jobs/technical-targeting-analyst/\n"
     ]
    },
    {
     "data": {
      "text/html": [
       "<p class=\"\">As a Technical Targeting Analyst at CIA, you will enable the Agency to collect intelligence against our nationâs highest priority threats in a global environment that is often hostile, fast paced, and technologically savvy. Technical Targeting Analysts evaluate technical and scientific data to provide insights that unite technical operations and technical development activities to maximize intelligence collection strategies.</p> <p class=\"\">Using your research and critical thinking skills, as well as your writing and briefing abilities on both current and longer-term intelligence studies, you will analyze critical data, inform senior officials, and steer intelligence operations. An ability to identify and assess entities, vulnerabilities, and technological trends to enable new collection operations that answer critical intelligence issues is vital to this work. Technical Targeting Analysts also apply their skills to uncovering and disrupting threats to CIAâs mission. This requires strong analytic, research, and investigative skills combined with an aptitude for an interest in technical and scientific topics, personal initiative, and a bias for collaboration.</p> <p class=\"\">Opportunities may exist for foreign travel, technical and management training, and assignments in other offices within the CIA. Advanced training will be provided in analytical tools and methodologies, as well as a variety of technologies.</p>"
      ]
     },
     "metadata": {},
     "output_type": "display_data"
    },
    {
     "data": {
      "application/vnd.jupyter.widget-view+json": {
       "model_id": "fe609c0952f04743bf4d33fd02138ea3",
       "version_major": 2,
       "version_minor": 0
      },
      "text/plain": [
       "Accordion(children=(HTML(value='<div><ul><li>Bachelorâ\\x80\\x99s degree in one of the following fields or relat…"
      ]
     },
     "metadata": {},
     "output_type": "display_data"
    },
    {
     "name": "stdout",
     "output_type": "stream",
     "text": [
      "-> Cyber Security Researcher <-\n",
      "https://www.cia.gov/careers/jobs/cyber-security-researcher/\n"
     ]
    },
    {
     "data": {
      "text/html": [
       "<p class=\"\">As a Cyber Security Researcher for CIA, you will focus in the cyber arena and specialize in the design, development, integration, and deployment of cutting edge tools, techniques, and systems to support cyber operations and other intelligence activities. Leveraging advanced knowledge and tradecraft with regards to computer and network security, Cyber Security Researchers produce creative, innovative, and elegant solutions to some of the toughest challenges. You will utilize your technical skills, imagination, ingenuity, initiative, and expertise to help develop, support, and execute the Agencyâs intelligence mission.</p> <p class=\"\">Most positions are located in the Washington, DC metropolitan area, but opportunities to serve and travel overseas exist as your career and abilities develop.</p>"
      ]
     },
     "metadata": {},
     "output_type": "display_data"
    },
    {
     "data": {
      "application/vnd.jupyter.widget-view+json": {
       "model_id": "2f0beef4eb3a4bfb9ce5ecd07c78d128",
       "version_major": 2,
       "version_minor": 0
      },
      "text/plain": [
       "Accordion(children=(HTML(value='<div><ul><li>Bachelorâ\\x80\\x99s degree in one of the following fields or relat…"
      ]
     },
     "metadata": {},
     "output_type": "display_data"
    },
    {
     "name": "stdout",
     "output_type": "stream",
     "text": [
      "-> Digital Forensics Engineer <-\n",
      "https://www.cia.gov/careers/jobs/digital-forensics-engineer/\n"
     ]
    },
    {
     "data": {
      "text/html": [
       "<p class=\"\">As a Digital Forensic Engineer (DFE) for CIA, you will focus on the Agencyâs toughest technology challenges and cyber threats. DFEs are energetic and enthusiastic computer or engineering professional who enjoys tackling hard challenges, are obsessed with learning about the newest technologies as they emerge and love it when no two days of work are ever the same.</p> <p class=\"\">A day in the life of a DFE can range from: analyzing data from an ongoing sophisticated cyber-attack, to providing time critical information to policy makers on threat mitigations for the newest zero day, or researching and understanding new file formats, mobile devices, and storage devices. This requires a fundamental understanding of technology at its lowest levels. You will scientifically research, collect, process, analyze, and present findings in support of data recovery and assessing and identifying malicious behaviors within digital datasets. DFEs also write scripts/code to help develop new information recovery techniques and threat identification methods. While you will be expected to perform analysis in such a way as to maintain the integrity and objectivity of the forensic process, exhibiting innovation and creativity in problem solving strategies is highly encouraged.</p>"
      ]
     },
     "metadata": {},
     "output_type": "display_data"
    },
    {
     "data": {
      "application/vnd.jupyter.widget-view+json": {
       "model_id": "3a5ffd9d7770419f86a0ac12fcc97eb4",
       "version_major": 2,
       "version_minor": 0
      },
      "text/plain": [
       "Accordion(children=(HTML(value='<div><ul><li>Bachelorâ\\x80\\x99s degree in one of the following fields or relat…"
      ]
     },
     "metadata": {},
     "output_type": "display_data"
    },
    {
     "name": "stdout",
     "output_type": "stream",
     "text": [
      "-> IT Engineer <-\n",
      "https://www.cia.gov/careers/jobs/it-engineer/\n"
     ]
    },
    {
     "data": {
      "text/html": [
       "<p class=\"\">As an IT Engineer for the CIA, you will specialize in the engineering, development, integration, and product evaluation services for the Agencyâs worldwide workgroup platform. You will work in a collaborative environment, providing critical support to the overall Agency mission, and are responsible for designing and deploying a secure, global communications infrastructure that allows CIA officers to communicate and collaborate with each other and partners throughout the Intelligence Community (IC) and federal government. This includes participating in the design of enterprise desktop, engineering collaborative solutions (e-mail, team collaboration, web and video conferencing) for the Agency and the IC, and introducing state-of-the-art technologies into the corporate baseline.</p> <p class=\"\">The Agencyâs network and application platforms leverage the best of industry and internally developed solutions to create an engineering environment that is both technically challenging and innovative. Opportunities to develop the most secure IT solutions from tactical platforms to high-speed optical networking are available.</p>"
      ]
     },
     "metadata": {},
     "output_type": "display_data"
    },
    {
     "data": {
      "application/vnd.jupyter.widget-view+json": {
       "model_id": "6bcb5ec25fe54deea0afe85d38fa1013",
       "version_major": 2,
       "version_minor": 0
      },
      "text/plain": [
       "Accordion(children=(HTML(value='<div><ul><li>Bachelorâ\\x80\\x99s degree in one of the following fields or relat…"
      ]
     },
     "metadata": {},
     "output_type": "display_data"
    }
   ],
   "source": [
    "see_page(longlist, df)"
   ]
  },
  {
   "cell_type": "code",
   "execution_count": 12,
   "metadata": {},
   "outputs": [
    {
     "data": {
      "text/plain": [
       "['Collection Management Officer',\n",
       " 'Data Analysis Officer',\n",
       " 'Targeting Officer',\n",
       " 'Technical Targeting Analyst',\n",
       " 'Digital Forensics Engineer']"
      ]
     },
     "execution_count": 12,
     "metadata": {},
     "output_type": "execute_result"
    }
   ],
   "source": [
    "[x['title'] for x in longlist if x['shortlist']]"
   ]
  },
  {
   "cell_type": "markdown",
   "metadata": {},
   "source": [
    "I think I'm probably going to apply for Technical Targeting Analyst"
   ]
  },
  {
   "cell_type": "code",
   "execution_count": null,
   "metadata": {},
   "outputs": [],
   "source": []
  }
 ],
 "metadata": {
  "kernelspec": {
   "display_name": "jobs",
   "language": "python",
   "name": "python3"
  },
  "language_info": {
   "codemirror_mode": {
    "name": "ipython",
    "version": 3
   },
   "file_extension": ".py",
   "mimetype": "text/x-python",
   "name": "python",
   "nbconvert_exporter": "python",
   "pygments_lexer": "ipython3",
   "version": "3.12.2"
  }
 },
 "nbformat": 4,
 "nbformat_minor": 2
}
